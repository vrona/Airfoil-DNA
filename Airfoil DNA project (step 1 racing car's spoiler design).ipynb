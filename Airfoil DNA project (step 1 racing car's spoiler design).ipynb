{
 "cells": [
  {
   "cell_type": "markdown",
   "metadata": {},
   "source": [
    "# Airfoil DNA project\n",
    "\n",
    "This mini-project finds its source in [\"Machine Learning Transformed the Porsche 919 Hybrid Evo\" article](https://newsroom.porsche.com/en/porsche-digital/porsche-digital-919-hybrid-evo-technology-machine-learning-josef-dubsky-christos-pashias.html) and is about implementing the first step explained in the article. <br>\n",
    "<br>This article has been written by Josef Dubsky, Optimization Methods Virtual Vehicle at Porsche and Dr. Christos Pashias, Manager Motorsport Aerodynamic Prototype Development at Porsche."
   ]
  },
  {
   "attachments": {},
   "cell_type": "markdown",
   "metadata": {},
   "source": [
    "![airfoil_dna.jpg](https://github.com/vrona/Airfoil-DNA/raw/master/airfoil_dna.jpg?raw=true)"
   ]
  },
  {
   "cell_type": "markdown",
   "metadata": {},
   "source": [
    "## Goal\n",
    "\n",
    "**Extraction of “airfoil DNA” from a dataset of airfoils.**\n",
    "\n",
    "Abstract\n",
    "<blockquote>\n",
    "\"Each of possible airfoils can be described only by a relatively small number of design parameter (refers as “airfoil genes” in the genuine article, \"only 5 to 10 depending on desired precision\").\n",
    "The optimal combination of these genes helps to find the right airfoil design for a specific range of use.\"\n",
    "<\\blockquote>"
   ]
  },
  {
   "cell_type": "markdown",
   "metadata": {},
   "source": [
    "Details<blockquote>\n",
    "\"Using Machine Learning for decisions.\"<br>\n",
    "<br>\"This is when we decided to use some of the machine learning algorithms to help us first with the choice of the correct design parameters. Similar like in picture processing, one can use the database of available airfoils (in our case about ~1600 airfoils, m-selig.ae.illinois.edu) and train the machine learning models with these (so-called dimensionality reduction). After this analysis, it turns out, that something like an \"airfoil DNA\" can be extracted from all the data and that each of possible airfoils can be described only by a relatively small number of \"airfoil genes\" (only 5 to 10 depending on desired precision). Therefore, if an engineer is looking for an optimal airfoil, it is enough only just to vary these few \"airfoil genes\".<br>\n",
    "<br>\n",
    "Once we could describe any possible airfoil with only just a few design parameters, the question was, how to find the best one. That is a typical optimization problem. Just to illustrate the complexity — if we describe each of the 2 airfoils with 5 design parameters, and if we also consider the relative position of the 2 wing segments and their size ratio as an optimization criterium, then together with the unknown flap angle in the opened position, we end up with altogether 15 design parameters. If we vary these design parameters only in e.g. 5 steps, calculate all the combinations and select the best one, we would need to analyze ~30 billion — each under multiple operating conditions. That is clearly not a feasible solution and still the resolution of only 5 steps per design parameter is extremely coarse.<br>\n",
    "<br>\n",
    "We used the algorithms, that mimic the evolution process of the organisms in the nature and lead to the “fittest” one.\"<br>\n",
    "Therefore, also at this stage, optimization algorithms have to be used. Here again, we used the algorithms, that mimic the evolution process of the organisms in the nature and lead to the “fittest” one. Thanks to this, the optimum could be found only by analyzing hundreds to a few thousands of designs.\"<br>\n",
    "<br>source: [\"Machine Learning Transformed the Porsche 919 Hybrid Evo\" article](https://newsroom.porsche.com/en/porsche-digital/porsche-digital-919-hybrid-evo-technology-machine-learning-josef-dubsky-christos-pashias.html)  <\\blockquote>"
   ]
  },
  {
   "cell_type": "markdown",
   "metadata": {},
   "source": [
    " ## Database\n",
    "Available here: https://m-selig.ae.illinois.edu/ads/coord_database.html).<br>\n",
    "\n",
    "Coordinates of ~1600 airfoils in <span style=\"color:red\">.dat </span> files which contains datas in the form of selig format."
   ]
  },
  {
   "cell_type": "markdown",
   "metadata": {},
   "source": [
    "### Understanding of airfoil data information \n",
    "(source: [Airfoil Tools Index](http://airfoiltools.com/airfoil/index))<br>\n",
    "\n",
    "\n",
    "#### Dat file parsing\n",
    "The .dat files is parsed using the rules below.\n",
    "\n",
    "1. The file is read a line at a time starting from the top. Blank lines are discarded.\n",
    "2. The first line is the name or description of the airfoil\n",
    "3. All subsequent lines must have 2 numeric values separated by white space characters\n",
    "4. The X coordinate should be in the range 0.0 to 1.0. In practice some files contain values slightly out of this range. So, any X value in the range -0.01 to 1.01 is included in the data (with a warning shown if the values are outside the range 0.0 to 1.0).\n",
    "5. The Y coordinate must be in the range -1.0 to +1.0."
   ]
  },
  {
   "cell_type": "code",
   "execution_count": 1,
   "metadata": {},
   "outputs": [
    {
     "name": "stdout",
     "output_type": "stream",
     "text": [
      "Examples of files name:\n",
      "\n",
      "naca64a210.dat\n",
      "goe611.dat\n",
      "naca651212.dat\n",
      "goe177.dat\n",
      "ag44ct02r.dat\n"
     ]
    }
   ],
   "source": [
    "# Examples of files name aka airfoil name.\n",
    "import glob\n",
    "import os\n",
    "\n",
    "print(\"Examples of files name:\\n\")\n",
    "for i, filename in zip(range(5), glob.glob('/Users/mikehatchi/vrona/Project_Airfoil/coord_seligFmt/*.dat')):\n",
    "    print(os.path.basename(os.path.normpath(filename)))"
   ]
  },
  {
   "cell_type": "markdown",
   "metadata": {},
   "source": [
    "### Zoom in the data"
   ]
  },
  {
   "cell_type": "code",
   "execution_count": 2,
   "metadata": {},
   "outputs": [
    {
     "name": "stdout",
     "output_type": "stream",
     "text": [
      "Description of A18 airfoil (a18.dat)\n"
     ]
    },
    {
     "data": {
      "text/html": [
       "<div>\n",
       "<style scoped>\n",
       "    .dataframe tbody tr th:only-of-type {\n",
       "        vertical-align: middle;\n",
       "    }\n",
       "\n",
       "    .dataframe tbody tr th {\n",
       "        vertical-align: top;\n",
       "    }\n",
       "\n",
       "    .dataframe thead th {\n",
       "        text-align: right;\n",
       "    }\n",
       "</style>\n",
       "<table border=\"1\" class=\"dataframe\">\n",
       "  <thead>\n",
       "    <tr style=\"text-align: right;\">\n",
       "      <th></th>\n",
       "      <th>A18 (original)</th>\n",
       "    </tr>\n",
       "  </thead>\n",
       "  <tbody>\n",
       "    <tr>\n",
       "      <th>count</th>\n",
       "      <td>41</td>\n",
       "    </tr>\n",
       "    <tr>\n",
       "      <th>unique</th>\n",
       "      <td>41</td>\n",
       "    </tr>\n",
       "    <tr>\n",
       "      <th>top</th>\n",
       "      <td>0.30000   0.08383</td>\n",
       "    </tr>\n",
       "    <tr>\n",
       "      <th>freq</th>\n",
       "      <td>1</td>\n",
       "    </tr>\n",
       "  </tbody>\n",
       "</table>\n",
       "</div>"
      ],
      "text/plain": [
       "              A18 (original)\n",
       "count                     41\n",
       "unique                    41\n",
       "top        0.30000   0.08383\n",
       "freq                       1"
      ]
     },
     "metadata": {},
     "output_type": "display_data"
    },
    {
     "name": "stdout",
     "output_type": "stream",
     "text": [
      "Description of NACA64a210 airfoil (naca64a210.dat)\n"
     ]
    },
    {
     "data": {
      "text/html": [
       "<div>\n",
       "<style scoped>\n",
       "    .dataframe tbody tr th:only-of-type {\n",
       "        vertical-align: middle;\n",
       "    }\n",
       "\n",
       "    .dataframe tbody tr th {\n",
       "        vertical-align: top;\n",
       "    }\n",
       "\n",
       "    .dataframe thead th {\n",
       "        text-align: right;\n",
       "    }\n",
       "</style>\n",
       "<table border=\"1\" class=\"dataframe\">\n",
       "  <thead>\n",
       "    <tr style=\"text-align: right;\">\n",
       "      <th></th>\n",
       "      <th>NACA 64A210</th>\n",
       "    </tr>\n",
       "  </thead>\n",
       "  <tbody>\n",
       "    <tr>\n",
       "      <th>count</th>\n",
       "      <td>51</td>\n",
       "    </tr>\n",
       "    <tr>\n",
       "      <th>unique</th>\n",
       "      <td>51</td>\n",
       "    </tr>\n",
       "    <tr>\n",
       "      <th>top</th>\n",
       "      <td>0.02613     -0.01473</td>\n",
       "    </tr>\n",
       "    <tr>\n",
       "      <th>freq</th>\n",
       "      <td>1</td>\n",
       "    </tr>\n",
       "  </tbody>\n",
       "</table>\n",
       "</div>"
      ],
      "text/plain": [
       "                 NACA 64A210\n",
       "count                     51\n",
       "unique                    51\n",
       "top     0.02613     -0.01473\n",
       "freq                       1"
      ]
     },
     "metadata": {},
     "output_type": "display_data"
    }
   ],
   "source": [
    "import numpy as np\n",
    "import pandas as pd\n",
    "from IPython.display import display # Allows the use of display() for DataFrames\n",
    "\n",
    "afa18_coor = pd.read_csv('/Users/mikehatchi/vrona/Project_Airfoil/coord_seligFmt/a18.dat') # , skiprows = 1\n",
    "afnaca64_coor = pd.read_csv('/Users/mikehatchi/vrona/Project_Airfoil/coord_seligFmt/naca64a210.dat')\n",
    "\n",
    "# Display a description of the dataset\n",
    "print(\"Description of A18 airfoil (a18.dat)\")\n",
    "display(afa18_coor.describe())\n",
    "\n",
    "print(\"Description of NACA64a210 airfoil (naca64a210.dat)\")\n",
    "display(afnaca64_coor.describe())"
   ]
  },
  {
   "cell_type": "markdown",
   "metadata": {},
   "source": [
    "### Look at the coordinates"
   ]
  },
  {
   "cell_type": "code",
   "execution_count": 9,
   "metadata": {},
   "outputs": [
    {
     "name": "stdout",
     "output_type": "stream",
     "text": [
      "A18 coordinates\n",
      " [[1.000e+00 6.140e-03]\n",
      " [9.500e-01 1.817e-02]\n",
      " [9.000e-01 2.858e-02]\n",
      " [8.000e-01 4.624e-02]\n",
      " [7.000e-01 6.056e-02]\n",
      " [6.000e-01 7.197e-02]\n",
      " [5.500e-01 7.612e-02]\n",
      " [5.000e-01 7.975e-02]\n",
      " [4.500e-01 8.293e-02]\n",
      " [4.000e-01 8.376e-02]\n",
      " [3.500e-01 8.466e-02]\n",
      " [3.000e-01 8.383e-02]\n",
      " [2.500e-01 8.065e-02]\n",
      " [2.000e-01 7.601e-02]\n",
      " [1.500e-01 7.026e-02]\n",
      " [1.000e-01 6.234e-02]\n",
      " [7.500e-02 5.660e-02]\n",
      " [5.000e-02 4.923e-02]\n",
      " [2.500e-02 3.947e-02]\n",
      " [1.250e-02 3.239e-02]\n",
      " [0.000e+00 1.865e-02]\n",
      " [1.250e-02 7.810e-03]\n",
      " [2.500e-02 3.570e-03]\n",
      " [5.000e-02 7.500e-04]\n",
      " [7.500e-02 0.000e+00]\n",
      " [1.000e-01 6.000e-05]\n",
      " [1.500e-01 2.000e-03]\n",
      " [2.000e-01 4.750e-03]\n",
      " [2.500e-01 8.060e-03]\n",
      " [3.000e-01 1.038e-02]\n",
      " [3.500e-01 1.353e-02]\n",
      " [4.000e-01 1.657e-02]\n",
      " [4.500e-01 1.780e-02]\n",
      " [5.000e-01 1.884e-02]\n",
      " [5.500e-01 1.980e-02]\n",
      " [6.000e-01 1.998e-02]\n",
      " [7.000e-01 1.924e-02]\n",
      " [8.000e-01 1.452e-02]\n",
      " [9.000e-01 8.130e-03]\n",
      " [9.500e-01 4.340e-03]\n",
      " [1.000e+00 0.000e+00]] \n",
      "\n"
     ]
    }
   ],
   "source": [
    "import numpy as np\n",
    "import pandas as pd\n",
    "import matplotlib.pyplot as plt\n",
    "\n",
    "# af_coor = pd.read_csv('/Users/mikehatchi/vrona/Project_Airfoil/coord_seligFmt/a18.dat') # , skiprows = 1\n",
    "print(\"A18 coordinates\\n\", afa18_coor, \"\\n\")\n",
    "# print(\"NACA 64A210 coordinates\\n\", afnaca64_coor)"
   ]
  },
  {
   "cell_type": "markdown",
   "metadata": {},
   "source": [
    "### Plotting the A18 airfoil coordinates"
   ]
  },
  {
   "cell_type": "code",
   "execution_count": 10,
   "metadata": {},
   "outputs": [
    {
     "data": {
      "image/png": "[encoded data removed]",
      "text/plain": [
       "<Figure size 720x360 with 1 Axes>"
      ]
     },
     "metadata": {
      "needs_background": "light"
     },
     "output_type": "display_data"
    }
   ],
   "source": [
    "import matplotlib.pyplot as plt\n",
    "from matplotlib.pyplot import figure\n",
    "%matplotlib inline\n",
    "\n",
    "afa18_coor = np.loadtxt('/Users/mikehatchi/vrona/Project_Airfoil/coord_seligFmt/a18.dat', skiprows = 1)\n",
    "\n",
    "plt.figure(figsize=(10,5))\n",
    "# plt.ylim(0,1)\n",
    "X = afa18_coor[:,0]\n",
    "Y = afa18_coor[:,1]\n",
    "\n",
    "plt.margins(0.007, 0.8)\n",
    "plt.plot(X, Y)\n",
    "\n",
    "plt.title(\"A18 airfoil shape\")\n",
    "plt.xlabel(\"chord\")\n",
    "plt.scatter(1.000e+00, 6.140e-03, color ='red')\n",
    "plt.scatter(1.000e+00, 0.000e+00, color ='blue')\n",
    "plt.annotate('beginning', xy=(1.000e+00, 6.140e-03), xytext=(0.92, 0.030), color ='red')\n",
    "plt.annotate('end', xy=(1.000e+00, 0.000e+00), xytext=(0.97, -0.020), color ='blue')\n",
    "\n",
    "plt.annotate('leading edge', xy=(0.000e+00, 1e-02), xytext=(0.02, -5e-02), arrowprops=dict(arrowstyle='->'))\n",
    "plt.annotate('trailing edge', xy=(0.9800e+00, -0.1e-02), xytext=(0.8, -5e-02), arrowprops=dict(arrowstyle='->'))\n",
    "\n",
    "plt.ylim = (-0.02, 0.09)\n",
    "plt.show()"
   ]
  },
  {
   "attachments": {},
   "cell_type": "markdown",
   "metadata": {},
   "source": [
    "Airfoil terminology\n",
    "\n",
    "![500px-Wing_profile_nomenclature.svg.png](https://github.com/vrona/Airfoil-DNA/blob/master/500px-Wing_profile_nomenclature.svg.png?raw=true)\n"
   ]
  },
  {
   "cell_type": "markdown",
   "metadata": {},
   "source": [
    "## [WIP]"
   ]
  }
 ],
 "metadata": {
  "kernelspec": {
   "display_name": "Python 3",
   "language": "python",
   "name": "python3"
  },
  "language_info": {
   "codemirror_mode": {
    "name": "ipython",
    "version": 3
   },
   "file_extension": ".py",
   "mimetype": "text/x-python",
   "name": "python",
   "nbconvert_exporter": "python",
   "pygments_lexer": "ipython3",
   "version": "3.6.8"
  }
 },
 "nbformat": 4,
 "nbformat_minor": 2
}
